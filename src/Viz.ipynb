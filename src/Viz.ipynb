{
 "cells": [
  {
   "cell_type": "code",
   "execution_count": 91,
   "metadata": {},
   "outputs": [
    {
     "name": "stdout",
     "output_type": "stream",
     "text": [
      "The autoreload extension is already loaded. To reload it, use:\n",
      "  %reload_ext autoreload\n"
     ]
    }
   ],
   "source": [
    "from pendulum import Pendulum\n",
    "import numpy as np\n",
    "import matplotlib.pyplot as plt\n",
    "%load_ext autoreload\n",
    "%autoreload 2"
   ]
  },
  {
   "cell_type": "code",
   "execution_count": 92,
   "metadata": {},
   "outputs": [],
   "source": [
    "pend = Pendulum(100, np.pi-0.1)"
   ]
  },
  {
   "cell_type": "code",
   "execution_count": 93,
   "metadata": {},
   "outputs": [
    {
     "name": "stdout",
     "output_type": "stream",
     "text": [
      "[[ 3.04159265e+00  0.00000000e+00]\n",
      " [ 3.03016081e+00 -8.99542233e-02]\n",
      " [ 3.00916624e+00 -1.17754034e-01]\n",
      " [ 2.98323548e+00 -1.41914024e-01]\n",
      " [ 2.95215402e+00 -1.69663317e-01]\n",
      " [ 2.91502977e+00 -2.02508293e-01]\n",
      " [ 2.87074932e+00 -2.41373893e-01]\n",
      " [ 2.81801927e+00 -2.87152032e-01]\n",
      " [ 2.75537045e+00 -3.40695292e-01]\n",
      " [ 2.68117672e+00 -4.02692457e-01]\n",
      " [ 2.59370801e+00 -4.73447845e-01]\n",
      " [ 2.49123917e+00 -5.52540021e-01]\n",
      " [ 2.37224043e+00 -6.38347013e-01]\n",
      " [ 2.23567347e+00 -7.27480690e-01]\n",
      " [ 2.08139747e+00 -8.14293123e-01]\n",
      " [ 1.91064009e+00 -8.90790430e-01]\n",
      " [ 1.72640676e+00 -9.47414540e-01]\n",
      " [ 1.53361759e+00 -9.74995323e-01]\n",
      " [ 1.33875753e+00 -9.67535578e-01]\n",
      " [ 1.14898164e+00 -9.24615007e-01]\n",
      " [ 9.70905497e-01 -8.51932992e-01]\n",
      " [ 8.09528604e-01 -7.59484513e-01]\n",
      " [ 6.67683078e-01 -6.58404489e-01]\n",
      " [ 5.46102708e-01 -5.58179788e-01]\n",
      " [ 4.43916714e-01 -4.65267663e-01]\n",
      " [ 3.59275704e-01 -3.83076600e-01]\n",
      " [ 2.89896087e-01 -3.12687367e-01]\n",
      " [ 2.33437468e-01 -2.53723510e-01]\n",
      " [ 1.87719417e-01 -2.05060110e-01]\n",
      " [ 1.50820329e-01 -1.65293269e-01]\n",
      " [ 1.21103641e-01 -1.33007656e-01]\n",
      " [ 9.72052951e-02 -1.06907346e-01]\n",
      " [ 7.80038419e-02 -8.58657653e-02]\n",
      " [ 6.25854231e-02 -6.89328824e-02]\n",
      " [ 5.02095185e-02 -5.53222639e-02]\n",
      " [ 4.02782161e-02 -4.43902391e-02]\n",
      " [ 3.23099291e-02 -3.56139361e-02]\n",
      " [ 2.59173139e-02 -2.85704316e-02]\n",
      " [ 2.07891128e-02 -2.29187188e-02]\n",
      " [ 1.66754229e-02 -1.83843796e-02]\n",
      " [ 1.33756805e-02 -1.47468412e-02]\n",
      " [ 1.07288172e-02 -1.18288539e-02]\n",
      " [ 8.60570867e-03 -9.48816666e-03]\n",
      " [ 6.90273090e-03 -7.61061294e-03]\n",
      " [ 5.53673768e-03 -6.10456322e-03]\n",
      " [ 4.44105910e-03 -4.89653045e-03]\n",
      " [ 3.56219735e-03 -3.92754132e-03]\n",
      " [ 2.85730327e-03 -3.15035898e-03]\n",
      " [ 2.29185504e-03 -2.52691762e-03]\n",
      " [ 1.83831700e-03 -2.02685713e-03]\n",
      " [ 1.47452922e-03 -1.62577495e-03]\n",
      " [ 1.18273369e-03 -1.30404648e-03]\n",
      " [ 9.48680526e-04 -1.04598306e-03]\n",
      " [ 7.60944750e-04 -8.38996432e-04]\n",
      " [ 6.10359121e-04 -6.72953342e-04]\n",
      " [ 4.89575849e-04 -5.39790943e-04]\n",
      " [ 3.92694209e-04 -4.32973552e-04]\n",
      " [ 3.14983386e-04 -3.47286567e-04]\n",
      " [ 2.52652050e-04 -2.78567037e-04]\n",
      " [ 2.02655576e-04 -2.23444242e-04]\n",
      " [ 1.62552910e-04 -1.79225632e-04]\n",
      " [ 1.30386265e-04 -1.43758088e-04]\n",
      " [ 1.04584990e-04 -1.15311856e-04]\n",
      " [ 8.38892882e-05 -9.24940988e-05]\n",
      " [ 6.72893706e-05 -7.41906221e-05]\n",
      " [ 5.39747961e-05 -5.95100608e-05]\n",
      " [ 4.32949576e-05 -4.77355226e-05]\n",
      " [ 3.47281078e-05 -3.82903511e-05]\n",
      " [ 2.78562493e-05 -3.07133432e-05]\n",
      " [ 2.23442405e-05 -2.46357749e-05]\n",
      " [ 1.79243778e-05 -1.97626007e-05]\n",
      " [ 1.43796508e-05 -1.58545974e-05]\n",
      " [ 1.15363807e-05 -1.27198067e-05]\n",
      " [ 9.25584886e-06 -1.02053254e-05]\n",
      " [ 7.42569155e-06 -8.18724847e-06]\n",
      " [ 5.95706065e-06 -6.56793871e-06]\n",
      " [ 4.77881987e-06 -5.26890019e-06]\n",
      " [ 3.83391693e-06 -4.22719658e-06]\n",
      " [ 3.07648943e-06 -3.39219184e-06]\n",
      " [ 2.46959558e-06 -2.72325047e-06]\n",
      " [ 1.98357609e-06 -2.18746710e-06]\n",
      " [ 1.59334523e-06 -1.75696147e-06]\n",
      " [ 1.28070539e-06 -1.41207737e-06]\n",
      " [ 1.02902370e-06 -1.13477055e-06]\n",
      " [ 8.26776763e-07 -9.11587306e-07]\n",
      " [ 6.63847478e-07 -7.31362887e-07]\n",
      " [ 5.33029739e-07 -5.87554142e-07]\n",
      " [ 4.28029780e-07 -4.72682518e-07]\n",
      " [ 3.43545306e-07 -3.78360137e-07]\n",
      " [ 2.76002441e-07 -3.02705878e-07]\n",
      " [ 2.21929263e-07 -2.43222268e-07]\n",
      " [ 1.78671245e-07 -1.96281708e-07]\n",
      " [ 1.43904867e-07 -1.58536651e-07]\n",
      " [ 1.15804530e-07 -1.28041926e-07]\n",
      " [ 9.31454571e-08 -1.03245306e-07]\n",
      " [ 7.47445325e-08 -8.26376391e-08]\n",
      " [ 5.99267475e-08 -6.60029793e-08]\n",
      " [ 4.80456365e-08 -5.27453934e-08]\n",
      " [ 3.85439836e-08 -4.21674242e-08]\n",
      " [ 3.09866085e-08 -3.40333588e-08]\n",
      " [ 2.49879982e-08 -2.76195263e-08]]\n"
     ]
    }
   ],
   "source": [
    "t = np.linspace(0, 20, 101)\n",
    "pend.simulate(t)\n",
    "print(pend.solutions)"
   ]
  },
  {
   "cell_type": "code",
   "execution_count": 94,
   "metadata": {},
   "outputs": [
    {
     "data": {
      "image/png": "[encoded data removed]",
      "text/plain": [
       "<Figure size 432x288 with 1 Axes>"
      ]
     },
     "metadata": {
      "needs_background": "light"
     },
     "output_type": "display_data"
    }
   ],
   "source": [
    "plt.plot(t, pend.solutions[:, 0], 'b', label='theta(t)')\n",
    "plt.plot(t, pend.solutions[:, 1], 'g', label='omega(t)')\n",
    "plt.legend(loc='best')\n",
    "plt.xlabel('t')\n",
    "plt.grid()"
   ]
  },
  {
   "cell_type": "code",
   "execution_count": 95,
   "metadata": {},
   "outputs": [
    {
     "ename": "SystemExit",
     "evalue": "",
     "output_type": "error",
     "traceback": [
      "An exception has occurred, use %tb to see the full traceback.\n",
      "\u001b[1;31mSystemExit\u001b[0m\n"
     ]
    },
    {
     "name": "stderr",
     "output_type": "stream",
     "text": [
      "C:\\Users\\vd5t\\AppData\\Local\\Programs\\Python\\Python39\\lib\\site-packages\\IPython\\core\\interactiveshell.py:3449: UserWarning: To exit: use 'exit', 'quit', or Ctrl-D.\n",
      "  warn(\"To exit: use 'exit', 'quit', or Ctrl-D.\", stacklevel=1)\n"
     ]
    }
   ],
   "source": [
    "pend.draw_P()"
   ]
  },
  {
   "cell_type": "code",
   "execution_count": null,
   "metadata": {},
   "outputs": [],
   "source": []
  },
  {
   "cell_type": "markdown",
   "metadata": {},
   "source": [
    "$$\n",
    "\\theta'' + g/L + sin(\\theta) = 0\n",
    "$$"
   ]
  }
 ],
 "metadata": {
  "kernelspec": {
   "display_name": "Python 3",
   "language": "python",
   "name": "python3"
  },
  "language_info": {
   "codemirror_mode": {
    "name": "ipython",
    "version": 3
   },
   "file_extension": ".py",
   "mimetype": "text/x-python",
   "name": "python",
   "nbconvert_exporter": "python",
   "pygments_lexer": "ipython3",
   "version": "3.9.5"
  }
 },
 "nbformat": 4,
 "nbformat_minor": 4
}
